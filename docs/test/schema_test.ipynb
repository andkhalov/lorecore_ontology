{
 "cells": [
  {
   "cell_type": "code",
   "execution_count": 2,
   "id": "5e1465e5",
   "metadata": {},
   "outputs": [
    {
     "name": "stdout",
     "output_type": "stream",
     "text": [
      "Collecting pyld\n",
      "  Obtaining dependency information for pyld from https://files.pythonhosted.org/packages/44/cd/80760be197a4bd08e7c136ef4bcb4a2c63fc799d8d91f4c177b21183135e/PyLD-2.0.4-py3-none-any.whl.metadata\n",
      "  Downloading PyLD-2.0.4-py3-none-any.whl.metadata (10.0 kB)\n",
      "Requirement already satisfied: cachetools in /Users/andreykhalov/anaconda3/envs/mipt_advanceML/lib/python3.10/site-packages (from pyld) (5.3.2)\n",
      "Collecting frozendict (from pyld)\n",
      "  Obtaining dependency information for frozendict from https://files.pythonhosted.org/packages/29/98/27e145ff7e8e63caa95fb8ee4fc56c68acb208bef01a89c3678a66f9a34d/frozendict-2.4.6-cp310-cp310-macosx_11_0_arm64.whl.metadata\n",
      "  Downloading frozendict-2.4.6-cp310-cp310-macosx_11_0_arm64.whl.metadata (23 kB)\n",
      "Requirement already satisfied: lxml in /Users/andreykhalov/anaconda3/envs/mipt_advanceML/lib/python3.10/site-packages (from pyld) (5.1.0)\n",
      "Downloading PyLD-2.0.4-py3-none-any.whl (70 kB)\n",
      "\u001b[2K   \u001b[90m━━━━━━━━━━━━━━━━━━━━━━━━━━━━━━━━━━━━━━━━\u001b[0m \u001b[32m70.9/70.9 kB\u001b[0m \u001b[31m538.5 kB/s\u001b[0m eta \u001b[36m0:00:00\u001b[0ma \u001b[36m0:00:01\u001b[0m\n",
      "\u001b[?25hDownloading frozendict-2.4.6-cp310-cp310-macosx_11_0_arm64.whl (37 kB)\n",
      "Installing collected packages: frozendict, pyld\n",
      "Successfully installed frozendict-2.4.6 pyld-2.0.4\n"
     ]
    }
   ],
   "source": [
    "!pip install pyld"
   ]
  },
  {
   "cell_type": "code",
   "execution_count": 8,
   "id": "c40997d5",
   "metadata": {},
   "outputs": [
    {
     "name": "stdout",
     "output_type": "stream",
     "text": [
      "✅ JSON validated successfully.\n",
      "--- Generated Turtle ---\n",
      "@prefix ns1: <http://schema.org/> .\n",
      "\n",
      "[] a ns1:Person ;\n",
      "    ns1:knows [ a ns1:Person ;\n",
      "            ns1:name \"Bob\" ] ;\n",
      "    ns1:name \"Alice\" .\n",
      "\n",
      "\n"
     ]
    }
   ],
   "source": [
    "# Example script (Python-style pseudocode; adapt imports to your environment)\n",
    "\n",
    "import json\n",
    "from jsonschema import validate, ValidationError\n",
    "from pyld import jsonld          # JSON-LD processing library\n",
    "from rdflib import Graph        # RDF library\n",
    "\n",
    "# 1) Define a JSON-LD context mapping to ontology URIs\n",
    "context = {\n",
    "    \"@context\": {\n",
    "        \"name\": \"http://schema.org/name\",\n",
    "        \"knows\": \"http://schema.org/knows\",\n",
    "        \"Person\": \"http://schema.org/Person\"\n",
    "    }\n",
    "}\n",
    "\n",
    "# 2) Define a JSON Schema that includes an @context → OWL class mapping\n",
    "schema = {\n",
    "    \"$schema\": \"http://json-schema.org/draft-07/schema#\",\n",
    "    \"title\": \"Person\",\n",
    "    \"type\": \"object\",\n",
    "    \"properties\": {\n",
    "        \"@context\": {\n",
    "            \"const\": context[\"@context\"],\n",
    "            \"description\": \"Ontology context mapping\"\n",
    "        },\n",
    "        \"@type\": {\n",
    "            \"type\": \"string\",\n",
    "            \"const\": \"Person\",\n",
    "            \"description\": \"Must map to botlab.com/ont#Person\"\n",
    "        },\n",
    "        \"name\": {\n",
    "            \"type\": \"string\",\n",
    "            \"description\": \"Person's name\"\n",
    "        }\n",
    "    },\n",
    "    \"required\": [\"@context\", \"@type\", \"name\"]\n",
    "}\n",
    "\n",
    "# 3) Create a JSON-LD instance\n",
    "person = {\n",
    "    \"@context\": context[\"@context\"],\n",
    "    \"@type\": \"Person\",\n",
    "    \"name\": \"Alice\",\n",
    "    \"knows\": [\n",
    "        {\"@type\": \"Person\", \"name\": \"Bob\"}\n",
    "    ]\n",
    "}\n",
    "\n",
    "# 4) Validate against JSON Schema\n",
    "try:\n",
    "    validate(instance=person, schema=schema)\n",
    "    print(\"✅ JSON validated successfully.\")\n",
    "except ValidationError as e:\n",
    "    print(\"❌ Validation error:\", e)\n",
    "\n",
    "# 5) Expand and convert to TTL (outline; install and import pyld & rdflib in your env)\n",
    "expanded = jsonld.expand(person)\n",
    "g = Graph().parse(data=json.dumps(expanded), format=\"json-ld\")\n",
    "ttl = g.serialize(format=\"turtle\")\n",
    "print(\"--- Generated Turtle ---\")\n",
    "print(ttl)\n"
   ]
  }
 ],
 "metadata": {
  "kernelspec": {
   "display_name": "mipt_advanceML",
   "language": "python",
   "name": "python3"
  },
  "language_info": {
   "codemirror_mode": {
    "name": "ipython",
    "version": 3
   },
   "file_extension": ".py",
   "mimetype": "text/x-python",
   "name": "python",
   "nbconvert_exporter": "python",
   "pygments_lexer": "ipython3",
   "version": "3.10.13"
  }
 },
 "nbformat": 4,
 "nbformat_minor": 5
}
